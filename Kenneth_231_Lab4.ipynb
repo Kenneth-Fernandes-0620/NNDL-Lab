{
  "cells": [
    {
      "cell_type": "code",
      "execution_count": null,
      "metadata": {
        "id": "voxMhA8tHrA8",
        "outputId": "29c4a197-ad39-4e04-f2eb-4b4788a56c60"
      },
      "outputs": [
        {
          "name": "stdout",
          "output_type": "stream",
          "text": [
            "Requirement already satisfied: pandas in c:\\users\\kenne\\anaconda3\\envs\\computervision\\lib\\site-packages (2.2.3)\n",
            "Requirement already satisfied: numpy in c:\\users\\kenne\\anaconda3\\envs\\computervision\\lib\\site-packages (1.26.4)\n",
            "Requirement already satisfied: tensorflow in c:\\users\\kenne\\anaconda3\\envs\\computervision\\lib\\site-packages (2.17.0)\n",
            "Requirement already satisfied: scikit-learn in c:\\users\\kenne\\anaconda3\\envs\\computervision\\lib\\site-packages (1.5.2)\n",
            "Requirement already satisfied: matplotlib in c:\\users\\kenne\\anaconda3\\envs\\computervision\\lib\\site-packages (3.9.2)\n",
            "Requirement already satisfied: tensorflow-datasets in c:\\users\\kenne\\anaconda3\\envs\\computervision\\lib\\site-packages (4.9.6)\n",
            "Collecting seaborn\n",
            "  Downloading seaborn-0.13.2-py3-none-any.whl.metadata (5.4 kB)\n",
            "Requirement already satisfied: python-dateutil>=2.8.2 in c:\\users\\kenne\\appdata\\roaming\\python\\python312\\site-packages (from pandas) (2.9.0.post0)\n",
            "Requirement already satisfied: pytz>=2020.1 in c:\\users\\kenne\\anaconda3\\envs\\computervision\\lib\\site-packages (from pandas) (2024.2)\n",
            "Requirement already satisfied: tzdata>=2022.7 in c:\\users\\kenne\\anaconda3\\envs\\computervision\\lib\\site-packages (from pandas) (2024.2)\n",
            "Requirement already satisfied: tensorflow-intel==2.17.0 in c:\\users\\kenne\\anaconda3\\envs\\computervision\\lib\\site-packages (from tensorflow) (2.17.0)\n",
            "Requirement already satisfied: absl-py>=1.0.0 in c:\\users\\kenne\\anaconda3\\envs\\computervision\\lib\\site-packages (from tensorflow-intel==2.17.0->tensorflow) (2.1.0)\n",
            "Requirement already satisfied: astunparse>=1.6.0 in c:\\users\\kenne\\anaconda3\\envs\\computervision\\lib\\site-packages (from tensorflow-intel==2.17.0->tensorflow) (1.6.3)\n",
            "Requirement already satisfied: flatbuffers>=24.3.25 in c:\\users\\kenne\\anaconda3\\envs\\computervision\\lib\\site-packages (from tensorflow-intel==2.17.0->tensorflow) (24.3.25)\n",
            "Requirement already satisfied: gast!=0.5.0,!=0.5.1,!=0.5.2,>=0.2.1 in c:\\users\\kenne\\anaconda3\\envs\\computervision\\lib\\site-packages (from tensorflow-intel==2.17.0->tensorflow) (0.6.0)\n",
            "Requirement already satisfied: google-pasta>=0.1.1 in c:\\users\\kenne\\anaconda3\\envs\\computervision\\lib\\site-packages (from tensorflow-intel==2.17.0->tensorflow) (0.2.0)\n",
            "Requirement already satisfied: h5py>=3.10.0 in c:\\users\\kenne\\anaconda3\\envs\\computervision\\lib\\site-packages (from tensorflow-intel==2.17.0->tensorflow) (3.12.1)\n",
            "Requirement already satisfied: libclang>=13.0.0 in c:\\users\\kenne\\anaconda3\\envs\\computervision\\lib\\site-packages (from tensorflow-intel==2.17.0->tensorflow) (18.1.1)\n",
            "Requirement already satisfied: ml-dtypes<0.5.0,>=0.3.1 in c:\\users\\kenne\\anaconda3\\envs\\computervision\\lib\\site-packages (from tensorflow-intel==2.17.0->tensorflow) (0.4.1)\n",
            "Requirement already satisfied: opt-einsum>=2.3.2 in c:\\users\\kenne\\anaconda3\\envs\\computervision\\lib\\site-packages (from tensorflow-intel==2.17.0->tensorflow) (3.4.0)\n",
            "Requirement already satisfied: packaging in c:\\users\\kenne\\appdata\\roaming\\python\\python312\\site-packages (from tensorflow-intel==2.17.0->tensorflow) (24.1)\n",
            "Requirement already satisfied: protobuf!=4.21.0,!=4.21.1,!=4.21.2,!=4.21.3,!=4.21.4,!=4.21.5,<5.0.0dev,>=3.20.3 in c:\\users\\kenne\\anaconda3\\envs\\computervision\\lib\\site-packages (from tensorflow-intel==2.17.0->tensorflow) (4.25.5)\n",
            "Requirement already satisfied: requests<3,>=2.21.0 in c:\\users\\kenne\\anaconda3\\envs\\computervision\\lib\\site-packages (from tensorflow-intel==2.17.0->tensorflow) (2.32.3)\n",
            "Requirement already satisfied: setuptools in c:\\users\\kenne\\anaconda3\\envs\\computervision\\lib\\site-packages (from tensorflow-intel==2.17.0->tensorflow) (72.1.0)\n",
            "Requirement already satisfied: six>=1.12.0 in c:\\users\\kenne\\appdata\\roaming\\python\\python312\\site-packages (from tensorflow-intel==2.17.0->tensorflow) (1.16.0)\n",
            "Requirement already satisfied: termcolor>=1.1.0 in c:\\users\\kenne\\anaconda3\\envs\\computervision\\lib\\site-packages (from tensorflow-intel==2.17.0->tensorflow) (2.5.0)\n",
            "Requirement already satisfied: typing-extensions>=3.6.6 in c:\\users\\kenne\\anaconda3\\envs\\computervision\\lib\\site-packages (from tensorflow-intel==2.17.0->tensorflow) (4.12.2)\n",
            "Requirement already satisfied: wrapt>=1.11.0 in c:\\users\\kenne\\anaconda3\\envs\\computervision\\lib\\site-packages (from tensorflow-intel==2.17.0->tensorflow) (1.16.0)\n",
            "Requirement already satisfied: grpcio<2.0,>=1.24.3 in c:\\users\\kenne\\anaconda3\\envs\\computervision\\lib\\site-packages (from tensorflow-intel==2.17.0->tensorflow) (1.66.2)\n",
            "Requirement already satisfied: tensorboard<2.18,>=2.17 in c:\\users\\kenne\\anaconda3\\envs\\computervision\\lib\\site-packages (from tensorflow-intel==2.17.0->tensorflow) (2.17.1)\n",
            "Requirement already satisfied: keras>=3.2.0 in c:\\users\\kenne\\anaconda3\\envs\\computervision\\lib\\site-packages (from tensorflow-intel==2.17.0->tensorflow) (3.6.0)\n",
            "Requirement already satisfied: scipy>=1.6.0 in c:\\users\\kenne\\anaconda3\\envs\\computervision\\lib\\site-packages (from scikit-learn) (1.14.1)\n",
            "Requirement already satisfied: joblib>=1.2.0 in c:\\users\\kenne\\anaconda3\\envs\\computervision\\lib\\site-packages (from scikit-learn) (1.4.2)\n",
            "Requirement already satisfied: threadpoolctl>=3.1.0 in c:\\users\\kenne\\anaconda3\\envs\\computervision\\lib\\site-packages (from scikit-learn) (3.5.0)\n",
            "Requirement already satisfied: contourpy>=1.0.1 in c:\\users\\kenne\\anaconda3\\envs\\computervision\\lib\\site-packages (from matplotlib) (1.3.0)\n",
            "Requirement already satisfied: cycler>=0.10 in c:\\users\\kenne\\anaconda3\\envs\\computervision\\lib\\site-packages (from matplotlib) (0.12.1)\n",
            "Requirement already satisfied: fonttools>=4.22.0 in c:\\users\\kenne\\anaconda3\\envs\\computervision\\lib\\site-packages (from matplotlib) (4.53.1)\n",
            "Requirement already satisfied: kiwisolver>=1.3.1 in c:\\users\\kenne\\anaconda3\\envs\\computervision\\lib\\site-packages (from matplotlib) (1.4.7)\n",
            "Requirement already satisfied: pillow>=8 in c:\\users\\kenne\\anaconda3\\envs\\computervision\\lib\\site-packages (from matplotlib) (10.4.0)\n",
            "Requirement already satisfied: pyparsing>=2.3.1 in c:\\users\\kenne\\anaconda3\\envs\\computervision\\lib\\site-packages (from matplotlib) (3.1.4)\n",
            "Requirement already satisfied: click in c:\\users\\kenne\\anaconda3\\envs\\computervision\\lib\\site-packages (from tensorflow-datasets) (8.1.7)\n",
            "Requirement already satisfied: dm-tree in c:\\users\\kenne\\anaconda3\\envs\\computervision\\lib\\site-packages (from tensorflow-datasets) (0.1.8)\n",
            "Requirement already satisfied: immutabledict in c:\\users\\kenne\\anaconda3\\envs\\computervision\\lib\\site-packages (from tensorflow-datasets) (4.2.0)\n",
            "Requirement already satisfied: promise in c:\\users\\kenne\\anaconda3\\envs\\computervision\\lib\\site-packages (from tensorflow-datasets) (2.3)\n",
            "Requirement already satisfied: psutil in c:\\users\\kenne\\appdata\\roaming\\python\\python312\\site-packages (from tensorflow-datasets) (6.0.0)\n",
            "Requirement already satisfied: pyarrow in c:\\users\\kenne\\anaconda3\\envs\\computervision\\lib\\site-packages (from tensorflow-datasets) (17.0.0)\n",
            "Requirement already satisfied: simple-parsing in c:\\users\\kenne\\anaconda3\\envs\\computervision\\lib\\site-packages (from tensorflow-datasets) (0.1.6)\n",
            "Requirement already satisfied: tensorflow-metadata in c:\\users\\kenne\\anaconda3\\envs\\computervision\\lib\\site-packages (from tensorflow-datasets) (1.16.1)\n",
            "Requirement already satisfied: toml in c:\\users\\kenne\\anaconda3\\envs\\computervision\\lib\\site-packages (from tensorflow-datasets) (0.10.2)\n",
            "Requirement already satisfied: tqdm in c:\\users\\kenne\\anaconda3\\envs\\computervision\\lib\\site-packages (from tensorflow-datasets) (4.66.5)\n",
            "Requirement already satisfied: etils>=1.9.1 in c:\\users\\kenne\\anaconda3\\envs\\computervision\\lib\\site-packages (from etils[enp,epath,epy,etree]>=1.9.1; python_version >= \"3.11\"->tensorflow-datasets) (1.9.4)\n",
            "Requirement already satisfied: fsspec in c:\\users\\kenne\\anaconda3\\envs\\computervision\\lib\\site-packages (from etils[enp,epath,epy,etree]>=1.9.1; python_version >= \"3.11\"->tensorflow-datasets) (2024.9.0)\n",
            "Requirement already satisfied: importlib_resources in c:\\users\\kenne\\anaconda3\\envs\\computervision\\lib\\site-packages (from etils[enp,epath,epy,etree]>=1.9.1; python_version >= \"3.11\"->tensorflow-datasets) (6.4.5)\n",
            "Requirement already satisfied: zipp in c:\\users\\kenne\\anaconda3\\envs\\computervision\\lib\\site-packages (from etils[enp,epath,epy,etree]>=1.9.1; python_version >= \"3.11\"->tensorflow-datasets) (3.20.2)\n",
            "Requirement already satisfied: charset-normalizer<4,>=2 in c:\\users\\kenne\\anaconda3\\envs\\computervision\\lib\\site-packages (from requests<3,>=2.21.0->tensorflow-intel==2.17.0->tensorflow) (3.3.2)\n",
            "Requirement already satisfied: idna<4,>=2.5 in c:\\users\\kenne\\anaconda3\\envs\\computervision\\lib\\site-packages (from requests<3,>=2.21.0->tensorflow-intel==2.17.0->tensorflow) (3.8)\n",
            "Requirement already satisfied: urllib3<3,>=1.21.1 in c:\\users\\kenne\\anaconda3\\envs\\computervision\\lib\\site-packages (from requests<3,>=2.21.0->tensorflow-intel==2.17.0->tensorflow) (2.2.2)\n",
            "Requirement already satisfied: certifi>=2017.4.17 in c:\\users\\kenne\\anaconda3\\envs\\computervision\\lib\\site-packages (from requests<3,>=2.21.0->tensorflow-intel==2.17.0->tensorflow) (2024.8.30)\n",
            "Requirement already satisfied: colorama in c:\\users\\kenne\\appdata\\roaming\\python\\python312\\site-packages (from click->tensorflow-datasets) (0.4.6)\n",
            "Requirement already satisfied: docstring-parser<1.0,>=0.15 in c:\\users\\kenne\\anaconda3\\envs\\computervision\\lib\\site-packages (from simple-parsing->tensorflow-datasets) (0.16)\n",
            "Requirement already satisfied: googleapis-common-protos<2,>=1.56.4 in c:\\users\\kenne\\anaconda3\\envs\\computervision\\lib\\site-packages (from tensorflow-metadata->tensorflow-datasets) (1.65.0)\n",
            "Requirement already satisfied: wheel<1.0,>=0.23.0 in c:\\users\\kenne\\anaconda3\\envs\\computervision\\lib\\site-packages (from astunparse>=1.6.0->tensorflow-intel==2.17.0->tensorflow) (0.43.0)\n",
            "Requirement already satisfied: rich in c:\\users\\kenne\\anaconda3\\envs\\computervision\\lib\\site-packages (from keras>=3.2.0->tensorflow-intel==2.17.0->tensorflow) (13.9.2)\n",
            "Requirement already satisfied: namex in c:\\users\\kenne\\anaconda3\\envs\\computervision\\lib\\site-packages (from keras>=3.2.0->tensorflow-intel==2.17.0->tensorflow) (0.0.8)\n",
            "Requirement already satisfied: optree in c:\\users\\kenne\\anaconda3\\envs\\computervision\\lib\\site-packages (from keras>=3.2.0->tensorflow-intel==2.17.0->tensorflow) (0.13.0)\n",
            "Requirement already satisfied: markdown>=2.6.8 in c:\\users\\kenne\\anaconda3\\envs\\computervision\\lib\\site-packages (from tensorboard<2.18,>=2.17->tensorflow-intel==2.17.0->tensorflow) (3.7)\n",
            "Requirement already satisfied: tensorboard-data-server<0.8.0,>=0.7.0 in c:\\users\\kenne\\anaconda3\\envs\\computervision\\lib\\site-packages (from tensorboard<2.18,>=2.17->tensorflow-intel==2.17.0->tensorflow) (0.7.2)\n",
            "Requirement already satisfied: werkzeug>=1.0.1 in c:\\users\\kenne\\anaconda3\\envs\\computervision\\lib\\site-packages (from tensorboard<2.18,>=2.17->tensorflow-intel==2.17.0->tensorflow) (3.0.4)\n",
            "Requirement already satisfied: MarkupSafe>=2.1.1 in c:\\users\\kenne\\anaconda3\\envs\\computervision\\lib\\site-packages (from werkzeug>=1.0.1->tensorboard<2.18,>=2.17->tensorflow-intel==2.17.0->tensorflow) (2.1.5)\n",
            "Requirement already satisfied: markdown-it-py>=2.2.0 in c:\\users\\kenne\\anaconda3\\envs\\computervision\\lib\\site-packages (from rich->keras>=3.2.0->tensorflow-intel==2.17.0->tensorflow) (3.0.0)\n",
            "Requirement already satisfied: pygments<3.0.0,>=2.13.0 in c:\\users\\kenne\\appdata\\roaming\\python\\python312\\site-packages (from rich->keras>=3.2.0->tensorflow-intel==2.17.0->tensorflow) (2.18.0)\n",
            "Requirement already satisfied: mdurl~=0.1 in c:\\users\\kenne\\anaconda3\\envs\\computervision\\lib\\site-packages (from markdown-it-py>=2.2.0->rich->keras>=3.2.0->tensorflow-intel==2.17.0->tensorflow) (0.1.2)\n",
            "Downloading seaborn-0.13.2-py3-none-any.whl (294 kB)\n",
            "Installing collected packages: seaborn\n",
            "Successfully installed seaborn-0.13.2\n",
            "Note: you may need to restart the kernel to use updated packages.\n"
          ]
        }
      ],
      "source": [
        "%pip install pandas numpy tensorflow scikit-learn matplotlib tensorflow-datasets seaborn"
      ]
    },
    {
      "cell_type": "markdown",
      "metadata": {
        "id": "axlrQWwO1K6C"
      },
      "source": [
        "### Import Statements"
      ]
    },
    {
      "cell_type": "code",
      "execution_count": null,
      "metadata": {
        "id": "GXxMfKLt1mjE"
      },
      "outputs": [],
      "source": [
        "import pandas as pd\n",
        "import numpy as np\n",
        "import tensorflow as tf\n",
        "from sklearn.model_selection import train_test_split\n",
        "from sklearn.cluster import KMeans\n",
        "from tensorflow.keras.models import Model\n",
        "from tensorflow.keras.layers import Dense, Flatten, Input\n",
        "from tensorflow.keras.utils import to_categorical\n",
        "import tensorflow_datasets as tfds\n",
        "import matplotlib.pyplot as plt"
      ]
    },
    {
      "cell_type": "markdown",
      "metadata": {
        "id": "inTtMh0p1s3b"
      },
      "source": [
        "## 1. Data Preparation:"
      ]
    },
    {
      "cell_type": "markdown",
      "metadata": {
        "id": "WDv6HyWL3ANm"
      },
      "source": [
        "### Load the Kuzushiji dataset"
      ]
    },
    {
      "cell_type": "code",
      "execution_count": null,
      "metadata": {
        "colab": {
          "base_uri": "https://localhost:8080/",
          "height": 445
        },
        "id": "-CoHaLbR1uiC",
        "outputId": "276f19c5-9dc7-4437-d96d-0e6a795fb96e"
      },
      "outputs": [
        {
          "name": "stderr",
          "output_type": "stream",
          "text": [
            "c:\\Users\\kenne\\anaconda3\\envs\\ComputerVision\\Lib\\site-packages\\tqdm\\auto.py:21: TqdmWarning: IProgress not found. Please update jupyter and ipywidgets. See https://ipywidgets.readthedocs.io/en/stable/user_install.html\n",
            "  from .autonotebook import tqdm as notebook_tqdm\n"
          ]
        },
        {
          "name": "stdout",
          "output_type": "stream",
          "text": [
            "\u001b[1mDownloading and preparing dataset Unknown size (download: Unknown size, generated: Unknown size, total: Unknown size) to C:\\Users\\kenne\\tensorflow_datasets\\kmnist\\3.0.1...\u001b[0m\n"
          ]
        },
        {
          "name": "stderr",
          "output_type": "stream",
          "text": [
            "Dl Completed...: 0 url [00:00, ? url/s]\n",
            "Dl Completed...:   0%|          | 0/1 [00:00<?, ? url/s]\n",
            "Dl Completed...:   0%|          | 0/2 [00:00<?, ? url/s]\n",
            "Dl Completed...:   0%|          | 0/3 [00:00<?, ? url/s]\n",
            "Dl Completed...:   0%|          | 0/4 [00:00<?, ? url/s]\n",
            "Dl Completed...:   0%|          | 0/4 [00:00<?, ? url/s]\n",
            "Dl Completed...:   0%|          | 0/4 [00:00<?, ? url/s]\n",
            "Dl Completed...:   0%|          | 0/4 [00:00<?, ? url/s]\n",
            "Dl Completed...:   0%|          | 0/4 [00:00<?, ? url/s]\n",
            "Dl Completed...:  25%|██▌       | 1/4 [00:00<00:01,  1.51 url/s]\n",
            "Dl Completed...:  50%|█████     | 2/4 [00:00<00:00,  3.00 url/s]\n",
            "Dl Completed...:  50%|█████     | 2/4 [00:00<00:00,  2.89 url/s]\n",
            "Dl Completed...:  50%|█████     | 2/4 [00:00<00:00,  2.86 url/s]\n",
            "Dl Completed...:  50%|█████     | 2/4 [00:00<00:00,  2.83 url/s]\n",
            "Dl Completed...:  50%|█████     | 2/4 [00:00<00:00,  2.80 url/s]\n",
            "Dl Completed...:  50%|█████     | 2/4 [00:01<00:01,  1.60 url/s]\n",
            "Dl Completed...:  50%|█████     | 2/4 [00:01<00:01,  1.09 url/s]\n",
            "Dl Completed...:  50%|█████     | 2/4 [00:02<00:02,  1.24s/ url]\n",
            "Dl Completed...:  50%|█████     | 2/4 [00:02<00:02,  1.35s/ url]\n",
            "Dl Completed...:  50%|█████     | 2/4 [00:03<00:03,  1.81s/ url]\n",
            "Dl Completed...:  50%|█████     | 2/4 [00:04<00:04,  2.47s/ url]\n",
            "Dl Completed...:  50%|█████     | 2/4 [00:04<00:04,  2.50s/ url]\n",
            "Dl Completed...:  50%|█████     | 2/4 [00:06<00:06,  3.36s/ url]\n",
            "Dl Completed...:  50%|█████     | 2/4 [00:08<00:08,  4.49s/ url]\n",
            "Dl Completed...:  75%|███████▌  | 3/4 [00:09<00:03,  3.01s/ url]\n",
            "Dl Completed...:  75%|███████▌  | 3/4 [00:09<00:03,  3.01s/ url]\n",
            "\u001b[A\n",
            "Dl Completed...:  75%|███████▌  | 3/4 [00:09<00:03,  3.01s/ url]\n",
            "Dl Completed...:  75%|███████▌  | 3/4 [00:11<00:03,  3.01s/ url]\n",
            "Dl Completed...:  75%|███████▌  | 3/4 [00:13<00:03,  3.01s/ url]\n",
            "Dl Completed...:  75%|███████▌  | 3/4 [00:17<00:03,  3.01s/ url]\n",
            "Dl Completed...:  75%|███████▌  | 3/4 [00:22<00:03,  3.01s/ url]\n",
            "Dl Completed...:  75%|███████▌  | 3/4 [00:28<00:03,  3.01s/ url]\n",
            "Dl Completed...:  75%|███████▌  | 3/4 [00:31<00:03,  3.01s/ url]\n",
            "Dl Completed...:  75%|███████▌  | 3/4 [00:35<00:03,  3.01s/ url]\n",
            "Dl Completed...:  75%|███████▌  | 3/4 [00:38<00:03,  3.01s/ url]\n",
            "Dl Completed...:  75%|███████▌  | 3/4 [00:41<00:03,  3.01s/ url]\n",
            "Dl Completed...:  75%|███████▌  | 3/4 [00:45<00:03,  3.01s/ url]\n",
            "Dl Completed...: 100%|██████████| 4/4 [00:46<00:00, 14.09s/ url]\n",
            "Dl Completed...: 100%|██████████| 4/4 [00:46<00:00, 14.09s/ url]\n",
            "\u001b[A\n",
            "Dl Completed...: 100%|██████████| 4/4 [00:46<00:00, 14.09s/ url]\n",
            "Extraction completed...: 100%|██████████| 4/4 [00:46<00:00, 11.70s/ file]\n",
            "Dl Size...: 100%|██████████| 19/19 [00:46<00:00,  2.46s/ MiB]\n",
            "Dl Completed...: 100%|██████████| 4/4 [00:46<00:00, 11.70s/ url]\n",
            "                                                                        \r"
          ]
        },
        {
          "name": "stdout",
          "output_type": "stream",
          "text": [
            "\u001b[1mDataset kmnist downloaded and prepared to C:\\Users\\kenne\\tensorflow_datasets\\kmnist\\3.0.1. Subsequent calls will reuse this data.\u001b[0m\n",
            "image size: (28, 28, 1)\n"
          ]
        },
        {
          "data": {
            "image/png": "[encoded data removed]",
            "text/plain": [
              "<Figure size 640x480 with 1 Axes>"
            ]
          },
          "metadata": {},
          "output_type": "display_data"
        }
      ],
      "source": [
        "# Load the KMNIST dataset\n",
        "kmnist_data = tfds.load('kmnist', split=['train', 'test'], as_supervised=True)\n",
        "\n",
        "# Split the data into training and testing sets\n",
        "train_data, test_data = kmnist_data\n",
        "\n",
        "# Get one example from the training dataset\n",
        "example_image, example_label = next(iter(train_data))\n",
        "\n",
        "# Display the image\n",
        "print(f\"image size: {example_image.shape}\")\n",
        "plt.imshow(example_image.numpy().squeeze(), cmap='gray')\n",
        "plt.title(f'Label: {example_label.numpy()}')\n",
        "plt.axis('off')\n",
        "plt.show()"
      ]
    },
    {
      "cell_type": "markdown",
      "metadata": {
        "id": "KBrFsxV93b6x"
      },
      "source": [
        "### Preprocess the data by normalizing the pixel values between 0 and 1."
      ]
    },
    {
      "cell_type": "code",
      "execution_count": null,
      "metadata": {
        "id": "EQZuAERN3dig"
      },
      "outputs": [],
      "source": [
        "# Preprocess the data: Normalize the pixel values between 0 and 1\n",
        "def normalize(image, label):\n",
        "    image = tf.cast(image, tf.float32) / 255.0  # Normalize\n",
        "    return image, label\n",
        "\n",
        "train_data = train_data.map(normalize)\n",
        "test_data = test_data.map(normalize)"
      ]
    },
    {
      "cell_type": "markdown",
      "metadata": {
        "id": "yIftMV1z8NUH"
      },
      "source": [
        "From the above image pixel values, we can see that the image has been normalized from 0-255 to 0-1"
      ]
    },
    {
      "cell_type": "markdown",
      "metadata": {
        "id": "elN28oRc8XMy"
      },
      "source": [
        "### Split the dataset into training (80%) and testing (20%) sets."
      ]
    },
    {
      "cell_type": "code",
      "execution_count": null,
      "metadata": {
        "colab": {
          "base_uri": "https://localhost:8080/"
        },
        "id": "xczq3vMi8adu",
        "outputId": "630ff59f-e53f-4368-fad7-c51c19b365ee"
      },
      "outputs": [
        {
          "name": "stdout",
          "output_type": "stream",
          "text": [
            "Training samples: 48000, Testing samples: 10000\n"
          ]
        }
      ],
      "source": [
        "# Split dataset into training (80%) and testing (20%)\n",
        "train_size = int(0.8 * tf.data.experimental.cardinality(train_data).numpy())\n",
        "test_size = tf.data.experimental.cardinality(test_data).numpy()\n",
        "\n",
        "train_split = train_data.take(train_size)\n",
        "test_split = train_data.skip(train_size)\n",
        "\n",
        "print(f\"Training samples: {train_size}, Testing samples: {test_size}\")"
      ]
    },
    {
      "cell_type": "markdown",
      "metadata": {
        "id": "PfEuuR3iCzPK"
      },
      "source": [
        "## Radial Basis Function (RBF) Network:"
      ]
    },
    {
      "cell_type": "markdown",
      "metadata": {
        "id": "ryWsQbdfDOAC"
      },
      "source": [
        "### Implement an RBF network using a Gaussian basis function."
      ]
    },
    {
      "cell_type": "code",
      "execution_count": null,
      "metadata": {
        "id": "EE_nvtXlCwZC"
      },
      "outputs": [],
      "source": [
        "from sklearn.cluster import KMeans\n",
        "import numpy as np\n",
        "\n",
        "class RBFNetwork:\n",
        "    def __init__(self, num_centers, num_classes, sigma):\n",
        "        self.num_centers = num_centers\n",
        "        self.num_classes = num_classes\n",
        "        self.sigma = sigma\n",
        "        self.centers = None\n",
        "        self.weights = None\n",
        "\n",
        "    def _gaussian_rbf(self, X):\n",
        "        diff = X[:, np.newaxis, :] - self.centers[np.newaxis, :, :]\n",
        "        return np.exp(-np.sum(diff**2, axis=2) / (2 * self.sigma**2))\n",
        "\n",
        "    def fit(self, X, y):\n",
        "        kmeans = KMeans(n_clusters=self.num_centers)\n",
        "        kmeans.fit(X)\n",
        "        self.centers = kmeans.cluster_centers_\n",
        "        RBF_output = self._gaussian_rbf(X)\n",
        "        self.weights = np.linalg.pinv(RBF_output).dot(y)\n",
        "\n",
        "    def predict(self, X):\n",
        "        RBF_output = self._gaussian_rbf(X)\n",
        "        output = RBF_output.dot(self.weights)\n",
        "        return np.argmax(output, axis=1)"
      ]
    },
    {
      "cell_type": "code",
      "execution_count": null,
      "metadata": {
        "id": "KnTqTqP3DcKx"
      },
      "outputs": [],
      "source": [
        "# defining the Parameters\n",
        "num_centers = 64\n",
        "num_classes = 10\n",
        "sigma = 1.0"
      ]
    },
    {
      "cell_type": "code",
      "execution_count": null,
      "metadata": {
        "id": "N-zdWgsuuqAt"
      },
      "outputs": [],
      "source": [
        "# Prepare data for fitting\n",
        "x_train_batches = []\n",
        "y_train_batches = []\n",
        "\n",
        "for images, labels in train_split.batch(32):  # Process in batches\n",
        "    x_train_batches.append(images.numpy().reshape(-1, 784))\n",
        "    y_train_batches.append(tf.one_hot(labels, depth=num_classes).numpy())\n",
        "\n",
        "x_train_np = np.concatenate(x_train_batches)\n",
        "y_train_np = np.concatenate(y_train_batches)\n",
        "\n",
        "# Create and train the RBF network\n",
        "rbf_network = RBFNetwork(num_centers, num_classes, sigma)\n",
        "rbf_network.fit(x_train_np, y_train_np)\n"
      ]
    },
    {
      "cell_type": "markdown",
      "metadata": {
        "id": "obKnkRmpe0Q4"
      },
      "source": [
        "## Training:"
      ]
    },
    {
      "cell_type": "code",
      "execution_count": null,
      "metadata": {
        "id": "MfOeqtKfNO8x"
      },
      "outputs": [],
      "source": [
        "def train_rbf_network(rbf_network, x_train, y_train, learning_rate=0.01, epochs=10):\n",
        "    for epoch in range(epochs):\n",
        "        RBF_output = rbf_network._gaussian_rbf(x_train)\n",
        "        predictions = RBF_output.dot(rbf_network.weights)\n",
        "\n",
        "        # Calculate the error\n",
        "        error = y_train - predictions\n",
        "\n",
        "        # Update weights using gradient descent\n",
        "        rbf_network.weights += learning_rate * (RBF_output.T.dot(error))\n",
        "\n",
        "# Train the RBF network\n",
        "train_rbf_network(rbf_network, x_train_np, y_train_np)"
      ]
    },
    {
      "cell_type": "markdown",
      "metadata": {
        "id": "_UZLxAObvSmC"
      },
      "source": [
        "## Evaluation"
      ]
    },
    {
      "cell_type": "code",
      "execution_count": null,
      "metadata": {
        "id": "_y8XakiSvUA5",
        "outputId": "104e8162-2c7c-4719-cbdf-f86970ac813e"
      },
      "outputs": [
        {
          "name": "stdout",
          "output_type": "stream",
          "text": [
            "Test Accuracy: 76.02%\n",
            "Classification Report:\n",
            "               precision    recall  f1-score   support\n",
            "\n",
            "           0       0.91      0.85      0.88      1178\n",
            "           1       0.87      0.63      0.73      1236\n",
            "           2       0.51      0.72      0.60      1172\n",
            "           3       0.87      0.73      0.80      1255\n",
            "           4       0.52      0.86      0.65      1143\n",
            "           5       0.96      0.74      0.83      1219\n",
            "           6       0.74      0.73      0.74      1231\n",
            "           7       0.94      0.87      0.90      1237\n",
            "           8       0.73      0.66      0.69      1168\n",
            "           9       0.89      0.83      0.86      1161\n",
            "\n",
            "    accuracy                           0.76     12000\n",
            "   macro avg       0.79      0.76      0.77     12000\n",
            "weighted avg       0.80      0.76      0.77     12000\n",
            "\n"
          ]
        },
        {
          "data": {
            "image/png": "[encoded data removed]",
            "text/plain": [
              "<Figure size 1000x800 with 2 Axes>"
            ]
          },
          "metadata": {},
          "output_type": "display_data"
        }
      ],
      "source": [
        "from sklearn.metrics import accuracy_score, confusion_matrix, classification_report\n",
        "import seaborn as sns\n",
        "import matplotlib.pyplot as plt\n",
        "\n",
        "# Prepare test data\n",
        "x_test_np = np.array([x.numpy().flatten() for x, _ in test_split])\n",
        "y_test_np = np.array([y.numpy() for _, y in test_split])\n",
        "\n",
        "# Make predictions\n",
        "predictions = rbf_network.predict(x_test_np)\n",
        "\n",
        "# Calculate accuracy\n",
        "accuracy = accuracy_score(y_test_np, predictions)\n",
        "print(f\"Test Accuracy: {accuracy * 100:.2f}%\")\n",
        "\n",
        "# Generate classification report\n",
        "report = classification_report(y_test_np, predictions)\n",
        "print(\"Classification Report:\\n\", report)\n",
        "\n",
        "# Generate confusion matrix\n",
        "conf_matrix = confusion_matrix(y_test_np, predictions)\n",
        "\n",
        "# Visualize the confusion matrix\n",
        "plt.figure(figsize=(10, 8))\n",
        "sns.heatmap(conf_matrix, annot=True, fmt=\"d\", cmap=\"Blues\")\n",
        "plt.xlabel('Predicted')\n",
        "plt.ylabel('True')\n",
        "plt.title('Confusion Matrix')\n",
        "plt.show()\n"
      ]
    },
    {
      "cell_type": "markdown",
      "metadata": {
        "id": "ihYyQvUbvZqI"
      },
      "source": [
        "### Step 5: Analysis  \n",
        "#### Strengths and Limitations of RBF Networks:\n",
        "- Strengths:\n",
        "  - Good for interpolation in high-dimensional spaces.\n",
        "  - Simple and interpretable.\n",
        "- Limitations:\n",
        "  - Sensitive to the choice of centers and spread (sigma).\n",
        "  - May require a large number of centers for complex datasets.\n",
        "\n",
        "#### Effect of Number of RBF Units:\n",
        "Increasing the number of RBF units generally improves the model's ability to capture complexity but can lead to overfitting if too many units are used. A lower number of RBF units may result in underfitting, failing to capture the underlying data distribution.\n"
      ]
    }
  ],
  "metadata": {
    "accelerator": "TPU",
    "colab": {
      "gpuType": "V28",
      "provenance": []
    },
    "kernelspec": {
      "display_name": "Python 3",
      "name": "python3"
    },
    "language_info": {
      "codemirror_mode": {
        "name": "ipython",
        "version": 3
      },
      "file_extension": ".py",
      "mimetype": "text/x-python",
      "name": "python",
      "nbconvert_exporter": "python",
      "pygments_lexer": "ipython3",
      "version": "3.12.4"
    }
  },
  "nbformat": 4,
  "nbformat_minor": 0
}