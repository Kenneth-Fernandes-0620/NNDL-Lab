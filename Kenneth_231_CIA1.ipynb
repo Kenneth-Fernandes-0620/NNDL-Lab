{
  "nbformat": 4,
  "nbformat_minor": 0,
  "metadata": {
    "colab": {
      "provenance": []
    },
    "kernelspec": {
      "name": "python3",
      "display_name": "Python 3"
    },
    "language_info": {
      "name": "python"
    }
  },
  "cells": [
    {
      "cell_type": "markdown",
      "source": [
        "### Q1. XOR Gate Classifier"
      ],
      "metadata": {
        "id": "fxHK2ahAMRtY"
      }
    },
    {
      "cell_type": "markdown",
      "source": [
        "I. Write the following in the answer sheet. (5 Marks)\n",
        "• Write the Threshold function.\n",
        "• Write Truth table for XOR Gate.\n",
        "• Write the XOR Gate Classification with input with weight initialization W11 = W21 =W12 = W22 =1.\n",
        "• Find the Optimum weights of W11, W21, W12, W22, V1 and V2 using the threshold function.\n",
        "• Why does the Single Layer Perceptron struggle to classify the XOR gate?\n",
        "• What modifications can be made to the neural network model to handle the XOR gate correctly?\n",
        "II. Implement the following:\n",
        "(Implementation 5 marks and Visualization and documentation 5 marks)\n",
        "• Scenario:\n",
        "The XOR gate is known for its complexity, as it outputs 1 only when the inputs are different.\n",
        "This is a challenge for a Single Layer Perceptron since XOR is not linearly separable.\n",
        "• Lab Task: Attempt to implement a Single Layer Perceptron in Google Colab to classify the\n",
        "output of an XOR gate. Perform the following steps:\n",
        "• Create the XOR gate's truth table dataset.\n",
        "• Implement the perceptron model and train it using the XOR dataset using MCP (McCulloch\n",
        "Pitts) Neuron.\n",
        "• Observe and discuss the perceptron's performance in this scenario.\n",
        "• Implement XOR using Multi-Layer Perceptron."
      ],
      "metadata": {
        "id": "o-2YgkwbAnoy"
      }
    },
    {
      "cell_type": "markdown",
      "source": [
        "### Import Statements"
      ],
      "metadata": {
        "id": "SSLViQ7GFfwl"
      }
    },
    {
      "cell_type": "code",
      "source": [
        "import numpy as np\n",
        "import matplotlib.pyplot as plt"
      ],
      "metadata": {
        "id": "-iPPZZpF4fVl"
      },
      "execution_count": 20,
      "outputs": []
    },
    {
      "cell_type": "markdown",
      "source": [
        "### Define the Step function and Perceptron"
      ],
      "metadata": {
        "id": "xGYCNtTjFiTA"
      }
    },
    {
      "cell_type": "code",
      "source": [
        "def step_function(x):\n",
        "    if x >= 1:\n",
        "        return 1\n",
        "    else:\n",
        "        return 0\n",
        "\n",
        "def perceptron(inputs, weights, bias):\n",
        "    weighted_sum = np.dot(inputs, weights) + bias\n",
        "    return step_function(weighted_sum)"
      ],
      "metadata": {
        "id": "RIk0iMbu4ZiD"
      },
      "execution_count": 11,
      "outputs": []
    },
    {
      "cell_type": "markdown",
      "source": [
        "#### For XOR, we first need an AND Gate"
      ],
      "metadata": {
        "id": "FUlYQkQqMRhV"
      }
    },
    {
      "cell_type": "code",
      "source": [
        "inputs=[(0,0),(0,1),(1,0),(1,1)]\n",
        "outputs=[0,0,0,1]\n",
        "weights=(1.2, 0.6)\n",
        "bias=0\n",
        "learning_rate = 0.5\n",
        "epochs = 100\n",
        "\n",
        "should_break = False\n",
        "\n",
        "for epoch in range(epochs):\n",
        "  for index, values in enumerate(inputs):\n",
        "      result = perceptron(values, weights, bias)\n",
        "      if result != outputs[index]:\n",
        "          error = outputs[index] - result\n",
        "          weights = (weights[0] + (learning_rate * error * values[0]), weights[1] + (learning_rate * error * values[1]))\n",
        "          print(f\"New Weights: {weights}\")\n",
        "          break\n",
        "      elif index == 3:\n",
        "        should_break = True\n",
        "        break\n",
        "  if should_break:\n",
        "    print(f\"Found optimal Weights in {epoch + 1} epochs, weights {weights}\")\n",
        "    break\n",
        "\n"
      ],
      "metadata": {
        "id": "CyqrsweKMSRz",
        "colab": {
          "base_uri": "https://localhost:8080/"
        },
        "outputId": "111af407-c9ba-4758-a075-a5680989b97c"
      },
      "execution_count": 13,
      "outputs": [
        {
          "output_type": "stream",
          "name": "stdout",
          "text": [
            "New Weights: (0.7, 0.6)\n",
            "Found optimal Weights in 2 epochs, weights (0.7, 0.6)\n"
          ]
        }
      ]
    },
    {
      "cell_type": "markdown",
      "source": [
        "#### For XOR, we need an OR Gate"
      ],
      "metadata": {
        "id": "JDb0-W80MRH6"
      }
    },
    {
      "cell_type": "code",
      "execution_count": 14,
      "metadata": {
        "id": "ByZUttHfMO7_",
        "colab": {
          "base_uri": "https://localhost:8080/"
        },
        "outputId": "193237d8-8ac8-490e-95f0-97cc74d4a969"
      },
      "outputs": [
        {
          "output_type": "stream",
          "name": "stdout",
          "text": [
            "New Weights: (1.2, 1.1)\n",
            "Found optimal Weights in 2 epochs, weights (1.2, 1.1)\n"
          ]
        }
      ],
      "source": [
        "inputs=[(0,0),(0,1),(1,0),(1,1)]\n",
        "outputs=[0,1,1,1]\n",
        "weights=(1.2, 0.6)\n",
        "bias=0\n",
        "learning_rate = 0.5\n",
        "epochs = 100\n",
        "\n",
        "should_break = False\n",
        "\n",
        "for epoch in range(epochs):\n",
        "  for index, values in enumerate(inputs):\n",
        "      result = perceptron(values, weights, bias)\n",
        "      if result != outputs[index]:\n",
        "          error = outputs[index] - result\n",
        "          weights = (weights[0] + (learning_rate * error * values[0]), weights[1] + (learning_rate * error * values[1]))\n",
        "          print(f\"New Weights: {weights}\")\n",
        "          break\n",
        "      elif index == 3:\n",
        "        should_break = True\n",
        "        break\n",
        "  if should_break:\n",
        "    print(f\"Found optimal Weights in {epoch + 1} epochs, weights {weights}\")\n",
        "    break\n",
        "\n"
      ]
    },
    {
      "cell_type": "markdown",
      "source": [
        "#### For XOR, we also need an AND-NOT"
      ],
      "metadata": {
        "id": "T7ZtRmbI7e43"
      }
    },
    {
      "cell_type": "code",
      "source": [
        "inputs=[(0,0),(0,1),(1,0),(1,1)]\n",
        "outputs=[0,0,1,0]\n",
        "weights=(1.2, 0.6)\n",
        "bias=0\n",
        "learning_rate = 0.5\n",
        "epochs = 100\n",
        "\n",
        "should_break = False\n",
        "\n",
        "for epoch in range(epochs):\n",
        "  for index, values in enumerate(inputs):\n",
        "      result = perceptron(values, weights, bias)\n",
        "      if result != outputs[index]:\n",
        "          error = outputs[index] - result\n",
        "          weights = (weights[0] + (learning_rate * error * values[0]), weights[1] + (learning_rate * error * values[1]))\n",
        "          print(f\"New Weights: {weights}\")\n",
        "          break\n",
        "      elif index == 3:\n",
        "        should_break = True\n",
        "        break\n",
        "  if should_break:\n",
        "    print(f\"Found optimal Weights in {epoch + 1} epochs, weights {weights}\")\n",
        "    break\n"
      ],
      "metadata": {
        "id": "rX7TVSjEMTOo",
        "colab": {
          "base_uri": "https://localhost:8080/"
        },
        "outputId": "fa530cb6-e817-4fac-9518-6370dda6590a"
      },
      "execution_count": 16,
      "outputs": [
        {
          "output_type": "stream",
          "name": "stdout",
          "text": [
            "New Weights: (0.7, 0.09999999999999998)\n",
            "New Weights: (1.2, 0.09999999999999998)\n",
            "New Weights: (0.7, -0.4)\n",
            "New Weights: (1.2, -0.4)\n",
            "Found optimal Weights in 5 epochs, weights (1.2, -0.4)\n"
          ]
        }
      ]
    },
    {
      "cell_type": "markdown",
      "source": [
        "Finally, to compute XOR, we will do the following"
      ],
      "metadata": {
        "id": "rhzxVq8Q7qBn"
      }
    },
    {
      "cell_type": "code",
      "source": [
        "inputs=[(0,0),(0,1),(1,0),(1,1)]\n",
        "outputs=[0,1,1,0]\n",
        "bias=0\n",
        "\n",
        "for index, input in enumerate(inputs):\n",
        "  and_result = perceptron(input,(0.7, 0.6), bias)\n",
        "  or_result = perceptron(input,(1.2, 1.1), bias)\n",
        "  and_not_result = perceptron((or_result,and_result), ((1.2, -0.4)), 0)\n",
        "\n",
        "  print(f\"XOR Result for {input}, expected {outputs[index]}, got {and_not_result}\")\n"
      ],
      "metadata": {
        "colab": {
          "base_uri": "https://localhost:8080/"
        },
        "id": "NDyzNLDK7n8v",
        "outputId": "4ef4549d-374c-48f3-f840-310bec97e2f5"
      },
      "execution_count": 19,
      "outputs": [
        {
          "output_type": "stream",
          "name": "stdout",
          "text": [
            "XOR Result for (0, 0), expected 0, got 0\n",
            "XOR Result for (0, 1), expected 1, got 1\n",
            "XOR Result for (1, 0), expected 1, got 1\n",
            "XOR Result for (1, 1), expected 0, got 0\n"
          ]
        }
      ]
    },
    {
      "cell_type": "markdown",
      "source": [
        "AS we can see from the above input, the Model properly classifies all the outputs with 100% accuracy"
      ],
      "metadata": {
        "id": "VpMbGEpe9bPr"
      }
    },
    {
      "cell_type": "markdown",
      "source": [
        "### XOR gate Linear Boundary"
      ],
      "metadata": {
        "id": "RsXeAkdQ8vh0"
      }
    },
    {
      "cell_type": "code",
      "source": [
        "plt.scatter([0,0,1,1], [0,1,0,1], c=outputs)\n",
        "\n",
        "plt.legend([\"0\", \"1\"])\n",
        "plt.xlabel(\"Input 1\")\n",
        "plt.ylabel(\"Input 2\")\n",
        "plt.title(\"XOR Gate Linear Boundary\")\n",
        "\n",
        "# Linear Boundaries\n",
        "plt.axhline(y=0, color='k')\n",
        "plt.axvline(x=0, color='k')\n",
        "\n",
        "plt.grid(True)\n",
        "\n",
        "plt.show()\n"
      ],
      "metadata": {
        "colab": {
          "base_uri": "https://localhost:8080/",
          "height": 472
        },
        "id": "XX8j7TZn8x6D",
        "outputId": "8e926850-5372-49dc-95c4-41d5b7a6ccca"
      },
      "execution_count": 28,
      "outputs": [
        {
          "output_type": "display_data",
          "data": {
            "text/plain": [
              "<Figure size 640x480 with 1 Axes>"
            ],
            "image/png": "[encoded data removed]"
          },
          "metadata": {}
        }
      ]
    },
    {
      "cell_type": "markdown",
      "source": [
        "AS we can see from the above, XOR is not linearly seperable. That means, we cannot draw a line such that it seperates the classes."
      ],
      "metadata": {
        "id": "6oOtbm2PGZ6d"
      }
    },
    {
      "cell_type": "markdown",
      "source": [
        "### Q2."
      ],
      "metadata": {
        "id": "60gBuFA98kWY"
      }
    },
    {
      "cell_type": "markdown",
      "source": [
        "You are tasked with performing sentiment analysis on the IMDb movie review dataset using\n",
        "an Artificial Neural Network (ANN). The dataset contains movie reviews labeled as positive\n",
        "or negative.\n",
        "• Design, implement, and evaluate an ANN model to classify the sentiment of IMDb\n",
        "movie reviews (positive or negative).\n",
        "• Explain the preprocessing steps, model architecture, and performance evaluation\n",
        "results in your submission.\n",
        "• Use One or more hidden layers with ReLU activation and an output layer with\n",
        "sigmoid activation for binary classification.\n",
        "• Use the binary cross-entropy loss function for training the model.\n",
        "• Provide the source code, the explanation of each step and visualize the necessary\n",
        "EDA steps and results.\n",
        "• Justify the use of the ReLU and sigmoid activation functions.\n",
        "• Explain why binary cross-entropy is suitable for this task."
      ],
      "metadata": {
        "id": "aL-3_v2GMY-M"
      }
    },
    {
      "cell_type": "code",
      "source": [
        "# import statements\n",
        "from tensorflow.keras.datasets import imdb\n",
        "from tensorflow.keras.models import Sequential\n",
        "from tensorflow.keras.layers import Dense, Flatten\n",
        "from tensorflow.keras.utils import to_categorical\n",
        "from tensorflow.keras.preprocessing.sequence import pad_sequences"
      ],
      "metadata": {
        "id": "t6v5qRp2_KJ1"
      },
      "execution_count": null,
      "outputs": []
    },
    {
      "cell_type": "code",
      "source": [
        "# Loading the IMDb dataset\n",
        "(X_train, y_train), (X_test, y_test) = imdb.load_data(num_words=10000)\n",
        "\n",
        "# preprocessing the data\n",
        "max_length = 200  # Setting the maximum sequence length\n",
        "X_train = pad_sequences(X_train, maxlen=max_length)\n",
        "X_test = pad_sequences(X_test, maxlen=max_length)\n",
        "\n",
        "# Model which i will be using\n",
        "model = Sequential()\n",
        "\n",
        "# Here i am defining the Layers i will be using\n",
        "model.add(Flatten())  # Flatten the input data\n",
        "model.add(Dense(64, activation='relu'))  # Hidden layer with ReLU activation\n",
        "model.add(Dense(1, activation='sigmoid'))  # Output layer with sigmoid activation\n",
        "\n",
        "# Compiling the model\n",
        "model.compile(optimizer='adam', loss='binary_crossentropy', metrics=['accuracy'])\n",
        "\n",
        "# Training the model and saving it to use later for visualization\n",
        "history = model.fit(X_train, y_train, epochs=10, batch_size=32, validation_data=(X_test, y_test))\n",
        "\n",
        "# Evaluate the model\n",
        "loss, accuracy = model.evaluate(X_test, y_test)\n",
        "print('Test Loss:', loss)\n",
        "print('Test Accuracy:', accuracy)"
      ],
      "metadata": {
        "colab": {
          "base_uri": "https://localhost:8080/"
        },
        "id": "q-CJ3Xon_Y8N",
        "outputId": "d5311c02-ec02-42c0-922c-7879c01ad588"
      },
      "execution_count": 44,
      "outputs": [
        {
          "output_type": "stream",
          "name": "stdout",
          "text": [
            "Epoch 1/10\n",
            "\u001b[1m782/782\u001b[0m \u001b[32m━━━━━━━━━━━━━━━━━━━━\u001b[0m\u001b[37m\u001b[0m \u001b[1m4s\u001b[0m 3ms/step - accuracy: 0.4974 - loss: 258.2483 - val_accuracy: 0.5012 - val_loss: 27.0566\n",
            "Epoch 2/10\n",
            "\u001b[1m782/782\u001b[0m \u001b[32m━━━━━━━━━━━━━━━━━━━━\u001b[0m\u001b[37m\u001b[0m \u001b[1m3s\u001b[0m 3ms/step - accuracy: 0.5180 - loss: 12.0441 - val_accuracy: 0.5050 - val_loss: 3.9816\n",
            "Epoch 3/10\n",
            "\u001b[1m782/782\u001b[0m \u001b[32m━━━━━━━━━━━━━━━━━━━━\u001b[0m\u001b[37m\u001b[0m \u001b[1m2s\u001b[0m 2ms/step - accuracy: 0.5139 - loss: 2.1728 - val_accuracy: 0.4974 - val_loss: 1.8040\n",
            "Epoch 4/10\n",
            "\u001b[1m782/782\u001b[0m \u001b[32m━━━━━━━━━━━━━━━━━━━━\u001b[0m\u001b[37m\u001b[0m \u001b[1m3s\u001b[0m 2ms/step - accuracy: 0.5062 - loss: 1.3494 - val_accuracy: 0.4982 - val_loss: 1.3961\n",
            "Epoch 5/10\n",
            "\u001b[1m782/782\u001b[0m \u001b[32m━━━━━━━━━━━━━━━━━━━━\u001b[0m\u001b[37m\u001b[0m \u001b[1m3s\u001b[0m 4ms/step - accuracy: 0.5133 - loss: 1.1278 - val_accuracy: 0.5013 - val_loss: 1.1932\n",
            "Epoch 6/10\n",
            "\u001b[1m782/782\u001b[0m \u001b[32m━━━━━━━━━━━━━━━━━━━━\u001b[0m\u001b[37m\u001b[0m \u001b[1m3s\u001b[0m 4ms/step - accuracy: 0.5076 - loss: 0.9483 - val_accuracy: 0.5059 - val_loss: 1.1087\n",
            "Epoch 7/10\n",
            "\u001b[1m782/782\u001b[0m \u001b[32m━━━━━━━━━━━━━━━━━━━━\u001b[0m\u001b[37m\u001b[0m \u001b[1m5s\u001b[0m 3ms/step - accuracy: 0.5120 - loss: 0.8659 - val_accuracy: 0.4998 - val_loss: 1.0085\n",
            "Epoch 8/10\n",
            "\u001b[1m782/782\u001b[0m \u001b[32m━━━━━━━━━━━━━━━━━━━━\u001b[0m\u001b[37m\u001b[0m \u001b[1m3s\u001b[0m 3ms/step - accuracy: 0.5068 - loss: 0.7924 - val_accuracy: 0.4988 - val_loss: 0.9613\n",
            "Epoch 9/10\n",
            "\u001b[1m782/782\u001b[0m \u001b[32m━━━━━━━━━━━━━━━━━━━━\u001b[0m\u001b[37m\u001b[0m \u001b[1m2s\u001b[0m 3ms/step - accuracy: 0.4988 - loss: 0.7564 - val_accuracy: 0.4985 - val_loss: 0.9390\n",
            "Epoch 10/10\n",
            "\u001b[1m782/782\u001b[0m \u001b[32m━━━━━━━━━━━━━━━━━━━━\u001b[0m\u001b[37m\u001b[0m \u001b[1m3s\u001b[0m 4ms/step - accuracy: 0.5046 - loss: 0.7237 - val_accuracy: 0.4990 - val_loss: 0.9161\n",
            "\u001b[1m782/782\u001b[0m \u001b[32m━━━━━━━━━━━━━━━━━━━━\u001b[0m\u001b[37m\u001b[0m \u001b[1m1s\u001b[0m 1ms/step - accuracy: 0.5040 - loss: 0.8885\n",
            "Test Loss: 0.9161227345466614\n",
            "Test Accuracy: 0.49904000759124756\n"
          ]
        }
      ]
    },
    {
      "cell_type": "code",
      "source": [
        "# Plot training & validation accuracy values\n",
        "plt.plot(history.history['accuracy'])\n",
        "plt.plot(history.history['val_accuracy'])\n",
        "plt.title('Model accuracy')\n",
        "plt.ylabel('Accuracy')\n",
        "plt.xlabel('Epoch')\n",
        "plt.legend(['Train', 'Test'])\n",
        "plt.show()"
      ],
      "metadata": {
        "colab": {
          "base_uri": "https://localhost:8080/",
          "height": 472
        },
        "id": "Yv8kh4mXEo8j",
        "outputId": "7421fde1-5880-418b-af87-d30f7d18c1f9"
      },
      "execution_count": 49,
      "outputs": [
        {
          "output_type": "display_data",
          "data": {
            "text/plain": [
              "<Figure size 640x480 with 1 Axes>"
            ],
            "image/png": "[encoded data removed]"
          },
          "metadata": {}
        }
      ]
    },
    {
      "cell_type": "code",
      "source": [
        "# Plot training & validation loss values\n",
        "plt.plot(history.history['loss'])\n",
        "plt.plot(history.history['val_loss'])\n",
        "plt.title('Model loss')\n",
        "plt.ylabel('Loss')\n",
        "plt.xlabel('Epoch')\n",
        "plt.legend(['Train', 'Test'])\n",
        "plt.show()"
      ],
      "metadata": {
        "colab": {
          "base_uri": "https://localhost:8080/",
          "height": 472
        },
        "id": "V0Kj5iJyEsRt",
        "outputId": "c10a6548-bf2f-4388-df40-b420f336d2bb"
      },
      "execution_count": 48,
      "outputs": [
        {
          "output_type": "display_data",
          "data": {
            "text/plain": [
              "<Figure size 640x480 with 1 Axes>"
            ],
            "image/png": "[encoded data removed]"
          },
          "metadata": {}
        }
      ]
    },
    {
      "cell_type": "markdown",
      "source": [
        "We can see in the above visualization that as the epochs increase, the loss reduces. this means the model is learning well"
      ],
      "metadata": {
        "id": "GO7inIcvIFew"
      }
    },
    {
      "cell_type": "markdown",
      "source": [
        "## Explanation of Steps:\n",
        "- 1. Load Dataset: The IMDb dataset is loaded using imdb.load_data().\n",
        "-  2. Preprocessing: The reviews are reduced to a fixed length (max_length) using pad_sequences().\n",
        "-  3. Model Architecture: An ANN model is created using Sequential().\n",
        "    - A Flatten layer transforms the input into a 1D vector.\n",
        "    - A Dense layer with ReLU acts as a hidden layer.\n",
        "    - A Dense layer with sigmoid activation outputs the predicted sentiment (probability of sentiment being positive).\n",
        "- 4. Compile the Model: The model is compiled with 'adam' optimizer, 'binary_crossentropy' loss function, and 'accuracy' as the metric.\n",
        "- 5. Train the Model: The model is trained on the training data using model.fit().\n",
        "- 6. Evaluate the Model: The model has an ok overall accuracy of 50%. while this may not be ideal, it is ok.\n",
        "\n",
        "## Why i used the Activation Functions:\n",
        "- ReLU: It adds non-linearity to the model, allowing it to learn complex patterns in the data. It also prevent vanishing gradients.\n",
        "- Sigmoid: It rounds-off the output to a value between 0 and 1, which is really useful for binary classification.\n",
        "\n",
        "## why use Binary Cross-Entropy Loss:\n",
        "- It is suitable for binary classification problems as it checks the difference between the predicted value and the actual label (0 or 1)."
      ],
      "metadata": {
        "id": "NHf5rL0__lke"
      }
    },
    {
      "cell_type": "code",
      "source": [],
      "metadata": {
        "id": "QkotRbdM_klZ"
      },
      "execution_count": null,
      "outputs": []
    }
  ]
}